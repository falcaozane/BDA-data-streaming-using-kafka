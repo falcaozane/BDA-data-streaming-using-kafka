{
 "cells": [
  {
   "cell_type": "code",
   "execution_count": 1,
   "metadata": {},
   "outputs": [
    {
     "name": "stdout",
     "output_type": "stream",
     "text": [
      "Requirement already satisfied: kafka-python in c:\\users\\shant\\onedrive\\developer\\personal\\stockanalysis\\.stockanalysis\\lib\\site-packages (2.0.2)\n",
      "Note: you may need to restart the kernel to use updated packages.\n"
     ]
    }
   ],
   "source": [
    "python -m venv .stockAnalysis\n",
    "pip install -r requirements.txt"
   ]
  },
  {
   "cell_type": "code",
   "execution_count": 1,
   "metadata": {},
   "outputs": [
    {
     "name": "stdout",
     "output_type": "stream",
     "text": [
      "{'Price': 240.42999267578125, 'Name': 'ZOMATO.NS', 'Timestamp': 1730704579979}\n",
      "{'Price': 240.3699951171875, 'Name': 'ZOMATO.NS', 'Timestamp': 1730704592486}\n",
      "{'Price': 240.35000610351562, 'Name': 'ZOMATO.NS', 'Timestamp': 1730704602326}\n",
      "{'Price': 240.3800048828125, 'Name': 'ZOMATO.NS', 'Timestamp': 1730704614644}\n",
      "{'Price': 240.35000610351562, 'Name': 'ZOMATO.NS', 'Timestamp': 1730704626972}\n",
      "{'Price': 240.3300018310547, 'Name': 'ZOMATO.NS', 'Timestamp': 1730704636815}\n",
      "{'Price': 240.32000732421875, 'Name': 'ZOMATO.NS', 'Timestamp': 1730704649133}\n",
      "{'Price': 240.3800048828125, 'Name': 'ZOMATO.NS', 'Timestamp': 1730704658987}\n",
      "{'Price': 240.36000061035156, 'Name': 'ZOMATO.NS', 'Timestamp': 1730704671325}\n",
      "{'Price': 240.38999938964844, 'Name': 'ZOMATO.NS', 'Timestamp': 1730704683665}\n",
      "{'Price': 240.3699951171875, 'Name': 'ZOMATO.NS', 'Timestamp': 1730704693506}\n",
      "{'Price': 240.3699951171875, 'Name': 'ZOMATO.NS', 'Timestamp': 1730704705825}\n",
      "{'Price': 240.3800048828125, 'Name': 'ZOMATO.NS', 'Timestamp': 1730704718134}\n",
      "{'Price': 240.52000427246094, 'Name': 'ZOMATO.NS', 'Timestamp': 1730704727998}\n",
      "{'Price': 240.39999389648438, 'Name': 'ZOMATO.NS', 'Timestamp': 1730704740320}\n",
      "{'Price': 240.3699951171875, 'Name': 'ZOMATO.NS', 'Timestamp': 1730704750169}\n",
      "{'Price': 240.36000061035156, 'Name': 'ZOMATO.NS', 'Timestamp': 1730704762488}\n",
      "{'Price': 240.3300018310547, 'Name': 'ZOMATO.NS', 'Timestamp': 1730704774820}\n",
      "{'Price': 240.33999633789062, 'Name': 'ZOMATO.NS', 'Timestamp': 1730704784662}\n",
      "{'Price': 240.3300018310547, 'Name': 'ZOMATO.NS', 'Timestamp': 1730704796974}\n",
      "{'Price': 240.33999633789062, 'Name': 'ZOMATO.NS', 'Timestamp': 1730704806844}\n"
     ]
    }
   ],
   "source": [
    "import yfinance as yf\n",
    "import json\n",
    "from time import sleep\n",
    "import sys\n",
    "import time\n",
    "\n",
    "\n",
    "if sys.version_info >= (3, 12, 0):\n",
    "    import six\n",
    "    sys.modules['kafka.vendor.six.moves'] = six.moves\n",
    "\n",
    "from kafka import KafkaProducer\n",
    "\n",
    "ticker = \"ZOMATO.NS\"\n",
    "# stock = yf.Ticker(ticker)\n",
    "# hist = stock.history(period=\"1d\" ,interval='1m')\n",
    "# hist[\"Timestamp\"] = hist.index\n",
    "\n",
    "producer  = KafkaProducer(bootstrap_servers=\"172.18.149.74:9092\",value_serializer=lambda x: json.dumps(x).encode(\"utf-8\"))\n",
    "counter = 0\n",
    "while counter<=30:\n",
    "    \n",
    "    zomato = {}\n",
    "    ## If random data is required of the stock of latest market date\n",
    "    # zomato[\"Price\"] = json.loads(hist.sample().to_json(orient=\"records\"))[0][\"High\"]\n",
    "    \n",
    "    #return latest price\n",
    "    stock = yf.Ticker(ticker)\n",
    "    zomato[\"Price\"] = stock.fast_info.last_price\n",
    "    \n",
    "    zomato[\"Name\"] = \"ZOMATO.NS\"\n",
    "    zomato[\"Timestamp\"] = round(time.time() * 1000)\n",
    "    print(zomato)\n",
    "    producer.send(ticker,zomato)\n",
    "    sleep(12)\n",
    "    counter+=1"
   ]
  },
  {
   "cell_type": "code",
   "execution_count": null,
   "metadata": {},
   "outputs": [],
   "source": []
  }
 ],
 "metadata": {
  "kernelspec": {
   "display_name": ".stock_streamer",
   "language": "python",
   "name": "python3"
  },
  "language_info": {
   "codemirror_mode": {
    "name": "ipython",
    "version": 3
   },
   "file_extension": ".py",
   "mimetype": "text/x-python",
   "name": "python",
   "nbconvert_exporter": "python",
   "pygments_lexer": "ipython3",
   "version": "3.12.4"
  }
 },
 "nbformat": 4,
 "nbformat_minor": 2
}
